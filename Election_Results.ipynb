{
  "nbformat": 4,
  "nbformat_minor": 0,
  "metadata": {
    "colab": {
      "provenance": [],
      "gpuType": "T4"
    },
    "kernelspec": {
      "name": "python3",
      "display_name": "Python 3"
    },
    "language_info": {
      "name": "python"
    },
    "accelerator": "GPU"
  },
  "cells": [
    {
      "cell_type": "code",
      "execution_count": null,
      "metadata": {
        "colab": {
          "base_uri": "https://localhost:8080/"
        },
        "id": "PRTnK1p_qM-k",
        "outputId": "8ecf1bf6-b1db-43c3-e6ba-33399e30315a"
      },
      "outputs": [
        {
          "output_type": "stream",
          "name": "stdout",
          "text": [
            "Mounted at /content/drive\n"
          ]
        }
      ],
      "source": [
        "from google.colab import drive\n",
        "drive.mount('/content/drive')"
      ]
    },
    {
      "cell_type": "code",
      "source": [
        "%cd drive/MyDrive/Election-Results"
      ],
      "metadata": {
        "colab": {
          "base_uri": "https://localhost:8080/"
        },
        "id": "AVCZXF0hqYQc",
        "outputId": "d59ea6a5-f275-495d-d167-debf0bca5ff3"
      },
      "execution_count": null,
      "outputs": [
        {
          "output_type": "stream",
          "name": "stdout",
          "text": [
            "/content/drive/MyDrive/Election-Results\n"
          ]
        }
      ]
    },
    {
      "cell_type": "code",
      "source": [
        "# required modules\n",
        "import requests\n",
        "from bs4 import BeautifulSoup\n",
        "import pandas as pd"
      ],
      "metadata": {
        "id": "c8kXQc_72Crd"
      },
      "execution_count": null,
      "outputs": []
    },
    {
      "cell_type": "code",
      "source": [
        "url = \"https://results.eci.gov.in/PcResultGenJune2024/index.htm\"\n",
        "response = requests.get(url)\n",
        "soup = BeautifulSoup(response.text, 'html')\n",
        "\n",
        "tables = soup.find_all('table')\n",
        "#tables  ---------- it returns the main table with the tags"
      ],
      "metadata": {
        "id": "RGCXVDG2rlWd"
      },
      "execution_count": null,
      "outputs": []
    },
    {
      "cell_type": "code",
      "source": [
        "for t in tables:\n",
        "    headings = t.find_all('th')\n",
        "headings"
      ],
      "metadata": {
        "colab": {
          "base_uri": "https://localhost:8080/"
        },
        "id": "4tMkd7V-uadY",
        "outputId": "29ef756f-5161-446c-8174-8feb011ad39c"
      },
      "execution_count": null,
      "outputs": [
        {
          "output_type": "execute_result",
          "data": {
            "text/plain": [
              "[<th style=\"text-align: left;\">Party</th>,\n",
              " <th style=\"text-align:right\">Won</th>,\n",
              " <th style=\"text-align:right\">Leading</th>,\n",
              " <th style=\"text-align:right\">Total</th>,\n",
              " <th>Total</th>,\n",
              " <th style=\"text-align:right\">543</th>,\n",
              " <th style=\"text-align:right\">0</th>,\n",
              " <th style=\"text-align:right\">543</th>]"
            ]
          },
          "metadata": {},
          "execution_count": 7
        }
      ]
    },
    {
      "cell_type": "code",
      "source": [
        "results = {}\n",
        "soup = BeautifulSoup(response.text, 'html.parser')\n",
        "table = soup.find('table', {'class': 'table'})\n",
        "headers = [header.text.strip() for header in table.find_all('th')]\n",
        "rows = table.find_all('tr') # to find each row in the table\n",
        "\n",
        "for row in rows[1:-1]:  # removing the header and footer rows\n",
        "    cols = row.find_all('td')\n",
        "    party_data = [col.text.strip() for col in cols]\n",
        "    results[party_data[0]] = party_data[1:]\n",
        "\n",
        "#  ------------------ checking to see if it returns the results without the html tags\n",
        "for party, data in results.items():\n",
        "    print(f\"{party}: Won - {data[0]}, Leading - {data[1]}, Total - {data[2]}\")\n",
        "\n",
        "# IT WORKS!! Now to save this to a dataframe and export it as .xlsx using pandas"
      ],
      "metadata": {
        "colab": {
          "base_uri": "https://localhost:8080/"
        },
        "id": "8M6SvFivrwSB",
        "outputId": "789b9362-54ca-40a0-cc84-60d7212680b4"
      },
      "execution_count": null,
      "outputs": [
        {
          "output_type": "stream",
          "name": "stdout",
          "text": [
            "Bharatiya Janata Party - BJP: Won - 240, Leading - 0, Total - 240\n",
            "Indian National Congress - INC: Won - 99, Leading - 0, Total - 99\n",
            "Samajwadi Party - SP: Won - 37, Leading - 0, Total - 37\n",
            "All India Trinamool Congress - AITC: Won - 29, Leading - 0, Total - 29\n",
            "Dravida Munnetra Kazhagam - DMK: Won - 22, Leading - 0, Total - 22\n",
            "Telugu Desam - TDP: Won - 16, Leading - 0, Total - 16\n",
            "Janata Dal  (United) - JD(U): Won - 12, Leading - 0, Total - 12\n",
            "Shiv Sena (Uddhav Balasaheb Thackrey) - SHSUBT: Won - 9, Leading - 0, Total - 9\n",
            "Nationalist Congress Party – Sharadchandra Pawar - NCPSP: Won - 8, Leading - 0, Total - 8\n",
            "Shiv Sena - SHS: Won - 7, Leading - 0, Total - 7\n",
            "Lok Janshakti Party(Ram Vilas) - LJPRV: Won - 5, Leading - 0, Total - 5\n",
            "Yuvajana Sramika Rythu Congress Party - YSRCP: Won - 4, Leading - 0, Total - 4\n",
            "Rashtriya Janata Dal - RJD: Won - 4, Leading - 0, Total - 4\n",
            "Communist Party of India  (Marxist) - CPI(M): Won - 4, Leading - 0, Total - 4\n",
            "Indian Union Muslim League - IUML: Won - 3, Leading - 0, Total - 3\n",
            "Aam Aadmi Party - AAAP: Won - 3, Leading - 0, Total - 3\n",
            "Jharkhand Mukti Morcha - JMM: Won - 3, Leading - 0, Total - 3\n",
            "Janasena Party - JnP: Won - 2, Leading - 0, Total - 2\n",
            "Communist Party of India  (Marxist-Leninist)  (Liberation) - CPI(ML)(L): Won - 2, Leading - 0, Total - 2\n",
            "Janata Dal  (Secular) - JD(S): Won - 2, Leading - 0, Total - 2\n",
            "Viduthalai Chiruthaigal Katchi - VCK: Won - 2, Leading - 0, Total - 2\n",
            "Communist Party of India - CPI: Won - 2, Leading - 0, Total - 2\n",
            "Rashtriya Lok Dal - RLD: Won - 2, Leading - 0, Total - 2\n",
            "Jammu & Kashmir National Conference - JKN: Won - 2, Leading - 0, Total - 2\n",
            "United People’s Party, Liberal - UPPL: Won - 1, Leading - 0, Total - 1\n",
            "Asom Gana Parishad - AGP: Won - 1, Leading - 0, Total - 1\n",
            "Hindustani Awam Morcha (Secular) - HAMS: Won - 1, Leading - 0, Total - 1\n",
            "Kerala Congress - KEC: Won - 1, Leading - 0, Total - 1\n",
            "Revolutionary Socialist Party - RSP: Won - 1, Leading - 0, Total - 1\n",
            "Nationalist Congress Party - NCP: Won - 1, Leading - 0, Total - 1\n",
            "Voice of the People Party - VOTPP: Won - 1, Leading - 0, Total - 1\n",
            "Zoram People’s Movement - ZPM: Won - 1, Leading - 0, Total - 1\n",
            "Shiromani Akali Dal - SAD: Won - 1, Leading - 0, Total - 1\n",
            "Rashtriya Loktantrik Party - RLTP: Won - 1, Leading - 0, Total - 1\n",
            "Bharat Adivasi Party - BHRTADVSIP: Won - 1, Leading - 0, Total - 1\n",
            "Sikkim Krantikari Morcha - SKM: Won - 1, Leading - 0, Total - 1\n",
            "Marumalarchi Dravida Munnetra Kazhagam - MDMK: Won - 1, Leading - 0, Total - 1\n",
            "Aazad Samaj Party (Kanshi Ram) - ASPKR: Won - 1, Leading - 0, Total - 1\n",
            "Apna Dal (Soneylal) - ADAL: Won - 1, Leading - 0, Total - 1\n",
            "AJSU Party - AJSUP: Won - 1, Leading - 0, Total - 1\n",
            "All India Majlis-E-Ittehadul Muslimeen - AIMIM: Won - 1, Leading - 0, Total - 1\n",
            "Independent - IND: Won - 7, Leading - 0, Total - 7\n"
          ]
        }
      ]
    },
    {
      "cell_type": "code",
      "source": [
        "data = []\n",
        "for party, values in results.items():\n",
        "    data.append([party] + values)\n",
        "\n",
        "df = pd.DataFrame(data, columns=['Party', 'Won', 'Leading', 'Total'])\n",
        "\n",
        "df.to_excel('election_results.xlsx', index=False)\n",
        "\n",
        "print(\"Data saved to election_results.xlsx\")"
      ],
      "metadata": {
        "colab": {
          "base_uri": "https://localhost:8080/"
        },
        "id": "Mq_rjaAt1hDp",
        "outputId": "ea21911b-828a-46a9-be3d-c514a57df27c"
      },
      "execution_count": null,
      "outputs": [
        {
          "output_type": "stream",
          "name": "stdout",
          "text": [
            "Data saved to election_results.xlsx\n"
          ]
        }
      ]
    },
    {
      "cell_type": "code",
      "source": [
        "excel_writer = pd.ExcelWriter('state_er.xlsx', engine='openpyxl')\n",
        "\n",
        "for i in range(1, 30):\n",
        "    state_code = f\"S{i:02}\"\n",
        "    url = f\"https://results.eci.gov.in/PcResultGenJune2024/partywiseresult-{state_code}.htm\"\n",
        "\n",
        "    response = requests.get(url)\n",
        "    soup = BeautifulSoup(response.text, 'html.parser')\n",
        "\n",
        "    header_tag = soup.find('h2')\n",
        "    if not header_tag:\n",
        "        print(f\"Header not found for state: {state_code}\")\n",
        "        continue\n",
        "\n",
        "    state_name = header_tag.text.strip()\n",
        "\n",
        "    table = soup.find('table', {'class': 'table'})\n",
        "    if not table:\n",
        "        print(f\"Table not found for state: {state_code}\")\n",
        "        continue\n",
        "\n",
        "    headers = [header.text.strip() for header in table.find_all('th')[:4]]\n",
        "    rows = table.find_all('tr')\n",
        "\n",
        "    results = []\n",
        "    for row in rows[1:-1]:\n",
        "        cols = row.find_all('td')\n",
        "        party_data = [col.text.strip() for col in cols]\n",
        "        results.append(party_data)\n",
        "\n",
        "    df = pd.DataFrame(results, columns=headers)\n",
        "    sheet_name = state_name.split('(')[0].strip()[:31]\n",
        "    df.to_excel(excel_writer, sheet_name=sheet_name, index=False)\n",
        "\n",
        "    print(f\"Data for {state_name} has been exported to state_er.xlsx\")\n",
        "\n",
        "excel_writer.book.save('state_er.xlsx')\n",
        "excel_writer.close()\n",
        "\n",
        "print(\"All data has been exported.\")\n"
      ],
      "metadata": {
        "colab": {
          "base_uri": "https://localhost:8080/"
        },
        "id": "cL77te8tKbnJ",
        "outputId": "84826d72-daf5-4604-d5c0-ad0f0047e5b6"
      },
      "execution_count": null,
      "outputs": [
        {
          "output_type": "stream",
          "name": "stdout",
          "text": [
            "Data for Andhra Pradesh (Total PC - 25) has been exported to state_er.xlsx\n",
            "Data for Arunachal Pradesh (Total PC - 2) has been exported to state_er.xlsx\n",
            "Data for Assam (Total PC - 14) has been exported to state_er.xlsx\n",
            "Data for Bihar (Total PC - 40) has been exported to state_er.xlsx\n",
            "Data for Goa (Total PC - 2) has been exported to state_er.xlsx\n",
            "Data for Gujarat (Total PC - 26) has been exported to state_er.xlsx\n",
            "Data for Haryana (Total PC - 10) has been exported to state_er.xlsx\n",
            "Data for Himachal Pradesh (Total PC - 4) has been exported to state_er.xlsx\n",
            "Header not found for state: S09\n",
            "Data for Karnataka (Total PC - 28) has been exported to state_er.xlsx\n",
            "Data for Kerala (Total PC - 20) has been exported to state_er.xlsx\n",
            "Data for Madhya Pradesh (Total PC - 29) has been exported to state_er.xlsx\n",
            "Data for Maharashtra (Total PC - 48) has been exported to state_er.xlsx\n",
            "Data for Manipur (Total PC - 2) has been exported to state_er.xlsx\n",
            "Data for Meghalaya (Total PC - 2) has been exported to state_er.xlsx\n",
            "Data for Mizoram (Total PC - 1) has been exported to state_er.xlsx\n",
            "Data for Nagaland (Total PC - 1) has been exported to state_er.xlsx\n",
            "Data for Odisha (Total PC - 21) has been exported to state_er.xlsx\n",
            "Data for Punjab (Total PC - 13) has been exported to state_er.xlsx\n",
            "Data for Rajasthan (Total PC - 25) has been exported to state_er.xlsx\n",
            "Data for Sikkim (Total PC - 1) has been exported to state_er.xlsx\n",
            "Data for Tamil Nadu (Total PC - 39) has been exported to state_er.xlsx\n",
            "Data for Tripura (Total PC - 2) has been exported to state_er.xlsx\n",
            "Data for Uttar Pradesh (Total PC - 80) has been exported to state_er.xlsx\n",
            "Data for West Bengal (Total PC - 42) has been exported to state_er.xlsx\n",
            "Data for Chhattisgarh (Total PC - 11) has been exported to state_er.xlsx\n",
            "Data for Jharkhand (Total PC - 14) has been exported to state_er.xlsx\n",
            "Data for Uttarakhand (Total PC - 5) has been exported to state_er.xlsx\n",
            "Data for Telangana (Total PC - 17) has been exported to state_er.xlsx\n",
            "All data has been exported.\n"
          ]
        }
      ]
    },
    {
      "cell_type": "code",
      "source": [
        "excel_writer = pd.ExcelWriter('union_er.xlsx', engine='openpyxl')\n",
        "\n",
        "for i in range(1, 10):\n",
        "    union_code = f\"U{i:02}\"\n",
        "    url = f\"https://results.eci.gov.in/PcResultGenJune2024/partywiseresult-{union_code}.htm\"\n",
        "\n",
        "    response = requests.get(url)\n",
        "    soup = BeautifulSoup(response.text, 'html.parser')\n",
        "\n",
        "    header_tag = soup.find('h2')\n",
        "    if not header_tag:\n",
        "        print(f\"Header not found for union territory: {union_code}\")\n",
        "        continue\n",
        "\n",
        "    ut_name = header_tag.text.strip()\n",
        "\n",
        "    table = soup.find('table', {'class': 'table'})\n",
        "    if not table:\n",
        "        print(f\"Table not found for union territory: {union_code}\")\n",
        "        continue\n",
        "\n",
        "    headers = [header.text.strip() for header in table.find_all('th')[:4]]\n",
        "    rows = table.find_all('tr')\n",
        "\n",
        "    results = []\n",
        "    for row in rows[1:-1]:\n",
        "        cols = row.find_all('td')\n",
        "        party_data = [col.text.strip() for col in cols]\n",
        "        results.append(party_data)\n",
        "\n",
        "    df = pd.DataFrame(results, columns=headers)\n",
        "    sheet_name = ut_name.split('(')[0].strip()[:31]\n",
        "    df.to_excel(excel_writer, sheet_name=sheet_name, index=False)\n",
        "\n",
        "    print(f\"Data for {ut_name} has been exported to union_er.xlsx\")\n",
        "\n",
        "excel_writer.book.save('union_er.xlsx')\n",
        "excel_writer.close()\n",
        "\n",
        "print(\"All data has been exported.\")\n"
      ],
      "metadata": {
        "colab": {
          "base_uri": "https://localhost:8080/"
        },
        "id": "MjizxeNRF3me",
        "outputId": "df18b585-11d9-4fc8-95ba-96cfccf8124e"
      },
      "execution_count": null,
      "outputs": [
        {
          "output_type": "stream",
          "name": "stdout",
          "text": [
            "Data for Andaman & Nicobar Islands (Total PC - 1) has been exported to union_er.xlsx\n",
            "Data for Chandigarh (Total PC - 1) has been exported to union_er.xlsx\n",
            "Data for Dadra & Nagar Haveli and Daman & Diu (Total PC - 2) has been exported to union_er.xlsx\n",
            "Header not found for union territory: U04\n",
            "Data for NCT OF Delhi (Total PC - 7) has been exported to union_er.xlsx\n",
            "Data for Lakshadweep (Total PC - 1) has been exported to union_er.xlsx\n",
            "Data for Puducherry (Total PC - 1) has been exported to union_er.xlsx\n",
            "Data for Jammu and Kashmir (Total PC - 5) has been exported to union_er.xlsx\n",
            "Data for Ladakh (Total PC - 1) has been exported to union_er.xlsx\n",
            "All data has been exported.\n"
          ]
        }
      ]
    }
  ]
}